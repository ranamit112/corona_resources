{
 "cells": [
  {
   "cell_type": "code",
   "execution_count": 1,
   "metadata": {},
   "outputs": [],
   "source": [
    "import pandas as pd\n",
    "import numpy as np\n",
    "import datetime\n",
    "import json\n",
    "from datetime import datetime as dt"
   ]
  },
  {
   "cell_type": "code",
   "execution_count": 2,
   "metadata": {},
   "outputs": [],
   "source": [
    "import urllib.request\n",
    "\n",
    "# Quary as defined by ministary of healthe website on 20200307, partial geographical area.\n",
    "# See documentation https://developers.arcgis.com/javascript/3/jsapi/spatialreference-amd.html#wkid\n",
    "# See https://gis.health.gov.il/arcgis/rest/services/CoronaExposureSites/MapServer/0\n",
    "# CORONA_DATA_URL = \"https://gis.health.gov.il/arcgis/rest/services/CoronaExposureSites/MapServer/0/query?f=json&where=(ID <> 'K_1') AND (OBJECTID <> 173)&returnGeometry=true&spatialRel=esriSpatialRelIntersects&maxAllowableOffset=305&geometry={\"xmin\":3205455.045000008,\"ymin\":2950407.3900000037,\"xmax\":3563929.7500000055,\"ymax\":3486931.273000005,\"spatialReference\":{\"wkid\":102100,\"latestWkid\":3857}}&geometryType=esriGeometryEnvelope&inSR=102100&outFields=*&outSR=102100\"\n",
    "# Quary as defined by ministary of healthe website on 20200307, with removal of all geographical limitations, and taking degrees intead of Projected Coordinate Systems. \n",
    "# CORONA_DATA_URL = \"https://gis.health.gov.il/arcgis/rest/services/CoronaExposureSites/MapServer/0/query?f=json&where=(ID <> 'K_1') AND (OBJECTID <> 173)&returnGeometry=true&spatialRel=esriSpatialRelIntersects&geometryType=esriGeometryEnvelope&outFields=*\"\n",
    "# removed all query limitations\n",
    "# CORONA_DATA_URL = \"https://gis.health.gov.il/arcgis/rest/services/CoronaExposureSites/MapServer/0/query?f=json&where=(ID <> 'XXXX')&returnGeometry=true&spatialRel=esriSpatialRelIntersects&geometryType=esriGeometryEnvelope&outFields=*\"\n",
    "# encoded\n",
    "CORONA_DATA_URL = \"https://gis.health.gov.il/arcgis/rest/services/CoronaExposureSites/MapServer/0/query?f=json&where=(ID%20%3C%3E%20%27XXXX%27)&returnGeometry=true&spatialRel=esriSpatialRelIntersects&geometryType=esriGeometryEnvelope&outFields=*\"\n",
    "with urllib.request.urlopen(CORONA_DATA_URL) as response:\n",
    "    corona_exposures_sites_query_data = json.loads(response.read().decode('utf-8'))"
   ]
  },
  {
   "cell_type": "code",
   "execution_count": 3,
   "metadata": {},
   "outputs": [],
   "source": [
    "corona_exposures_features = pd.json_normalize(corona_exposures_sites_query_data['features'])\n",
    "corona_exposures_features\n",
    "\n",
    "def convertTimestampMsToDatetime(df, input_column, output_column):\n",
    "    df[output_column] = (df[input_column].astype(float) / 1000).map(lambda x: None if pd.isna(x) else dt.fromtimestamp(x))\n",
    "    \n",
    "\n",
    "def convertTypesStrToLiteral(df):\n",
    "    import ast\n",
    "    df['attributes.types'] = df['attributes.types'].map(lambda x: ast.literal_eval(x) if x and str(x).startswith(\"[\") else x)\n",
    "\n",
    "convertTimestampMsToDatetime(corona_exposures_features, 'attributes.fromTime', 'attributes.fromDatetime')\n",
    "convertTimestampMsToDatetime(corona_exposures_features, 'attributes.toTime', 'attributes.toDatetime')\n",
    "convertTimestampMsToDatetime(corona_exposures_features, 'attributes.flightArrival', 'attributes.flightArrivalDatetime')\n",
    "convertTypesStrToLiteral(corona_exposures_features)\n",
    "corona_exposures_features = corona_exposures_features.drop(labels=['attributes.Date', 'attributes.POINT_X', 'attributes.POINT_Y', 'attributes.fromTime', 'attributes.toTime', 'attributes.flightArrival'], axis=1, inplace=False)\n",
    "# remove korean turiests, they are removed in the original query and don't have exact times, and long ago\n",
    "corona_exposures_features = corona_exposures_features[corona_exposures_features['attributes.ID'] != 'K_1']\n",
    "corona_exposures_no_flight = corona_exposures_features\n",
    "corona_exposures_no_flight = corona_exposures_no_flight.drop(labels=['attributes.flight', 'attributes.flightFrom', 'attributes.flightArrivalDatetime'], axis=1, inplace=False)\n",
    "corona_exposures_flights = corona_exposures_features[['attributes.flight', 'attributes.flightFrom', 'attributes.flightArrivalDatetime']]\n",
    "corona_exposures_flights = corona_exposures_flights[corona_exposures_flights['attributes.flight'].map(bool) & (corona_exposures_flights['attributes.flight'] != 'לא רלוונטי')]\n",
    "corona_exposures_flights = corona_exposures_flights.drop_duplicates(subset=['attributes.flight','attributes.flightFrom'])"
   ]
  }
 ],
 "metadata": {
  "kernelspec": {
   "display_name": "Python 3",
   "language": "python",
   "name": "python3"
  },
  "language_info": {
   "codemirror_mode": {
    "name": "ipython",
    "version": 3
   },
   "file_extension": ".py",
   "mimetype": "text/x-python",
   "name": "python",
   "nbconvert_exporter": "python",
   "pygments_lexer": "ipython3",
   "version": "3.7.4"
  }
 },
 "nbformat": 4,
 "nbformat_minor": 4
}
